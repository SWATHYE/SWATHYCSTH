{
 "cells": [
  {
   "cell_type": "code",
   "execution_count": 20,
   "id": "9f196d51",
   "metadata": {},
   "outputs": [],
   "source": [
    "import numpy as np\n",
    "import matplotlib.pyplot as plt\n",
    "import seaborn as sns\n",
    "import pandas as pd\n",
    "import statistics as stat"
   ]
  },
  {
   "cell_type": "code",
   "execution_count": 21,
   "id": "25c472c2",
   "metadata": {},
   "outputs": [
    {
     "data": {
      "text/html": [
       "<div>\n",
       "<style scoped>\n",
       "    .dataframe tbody tr th:only-of-type {\n",
       "        vertical-align: middle;\n",
       "    }\n",
       "\n",
       "    .dataframe tbody tr th {\n",
       "        vertical-align: top;\n",
       "    }\n",
       "\n",
       "    .dataframe thead th {\n",
       "        text-align: right;\n",
       "    }\n",
       "</style>\n",
       "<table border=\"1\" class=\"dataframe\">\n",
       "  <thead>\n",
       "    <tr style=\"text-align: right;\">\n",
       "      <th></th>\n",
       "      <th>Month</th>\n",
       "      <th>Region</th>\n",
       "      <th>Manager</th>\n",
       "      <th>Sales_before_digital_add(in $)</th>\n",
       "      <th>Sales_After_digital_add(in $)</th>\n",
       "    </tr>\n",
       "  </thead>\n",
       "  <tbody>\n",
       "    <tr>\n",
       "      <th>0</th>\n",
       "      <td>Month-1</td>\n",
       "      <td>Region - A</td>\n",
       "      <td>Manager - A</td>\n",
       "      <td>132921</td>\n",
       "      <td>270390</td>\n",
       "    </tr>\n",
       "    <tr>\n",
       "      <th>1</th>\n",
       "      <td>Month-2</td>\n",
       "      <td>Region - A</td>\n",
       "      <td>Manager - C</td>\n",
       "      <td>149559</td>\n",
       "      <td>223334</td>\n",
       "    </tr>\n",
       "    <tr>\n",
       "      <th>2</th>\n",
       "      <td>Month-3</td>\n",
       "      <td>Region - B</td>\n",
       "      <td>Manager - A</td>\n",
       "      <td>146278</td>\n",
       "      <td>244243</td>\n",
       "    </tr>\n",
       "    <tr>\n",
       "      <th>3</th>\n",
       "      <td>Month-4</td>\n",
       "      <td>Region - B</td>\n",
       "      <td>Manager - B</td>\n",
       "      <td>152167</td>\n",
       "      <td>231808</td>\n",
       "    </tr>\n",
       "    <tr>\n",
       "      <th>4</th>\n",
       "      <td>Month-5</td>\n",
       "      <td>Region - C</td>\n",
       "      <td>Manager - B</td>\n",
       "      <td>159525</td>\n",
       "      <td>258402</td>\n",
       "    </tr>\n",
       "  </tbody>\n",
       "</table>\n",
       "</div>"
      ],
      "text/plain": [
       "     Month      Region      Manager  Sales_before_digital_add(in $)  \\\n",
       "0  Month-1  Region - A  Manager - A                          132921   \n",
       "1  Month-2  Region - A  Manager - C                          149559   \n",
       "2  Month-3  Region - B  Manager - A                          146278   \n",
       "3  Month-4  Region - B  Manager - B                          152167   \n",
       "4  Month-5  Region - C  Manager - B                          159525   \n",
       "\n",
       "   Sales_After_digital_add(in $)  \n",
       "0                         270390  \n",
       "1                         223334  \n",
       "2                         244243  \n",
       "3                         231808  \n",
       "4                         258402  "
      ]
     },
     "execution_count": 21,
     "metadata": {},
     "output_type": "execute_result"
    }
   ],
   "source": [
    "df=pd.read_csv('C:/Users/user/Documents/Sales_add (1).csv')\n",
    "df.head()"
   ]
  },
  {
   "cell_type": "code",
   "execution_count": 22,
   "id": "2f1a5f18",
   "metadata": {},
   "outputs": [
    {
     "name": "stdout",
     "output_type": "stream",
     "text": [
      "<class 'pandas.core.frame.DataFrame'>\n",
      "RangeIndex: 22 entries, 0 to 21\n",
      "Data columns (total 5 columns):\n",
      " #   Column                          Non-Null Count  Dtype \n",
      "---  ------                          --------------  ----- \n",
      " 0   Month                           22 non-null     object\n",
      " 1   Region                          22 non-null     object\n",
      " 2   Manager                         22 non-null     object\n",
      " 3   Sales_before_digital_add(in $)  22 non-null     int64 \n",
      " 4   Sales_After_digital_add(in $)   22 non-null     int64 \n",
      "dtypes: int64(2), object(3)\n",
      "memory usage: 1008.0+ bytes\n"
     ]
    }
   ],
   "source": [
    "df.info()"
   ]
  },
  {
   "cell_type": "code",
   "execution_count": 23,
   "id": "054e8e95",
   "metadata": {},
   "outputs": [
    {
     "data": {
      "text/html": [
       "<div>\n",
       "<style scoped>\n",
       "    .dataframe tbody tr th:only-of-type {\n",
       "        vertical-align: middle;\n",
       "    }\n",
       "\n",
       "    .dataframe tbody tr th {\n",
       "        vertical-align: top;\n",
       "    }\n",
       "\n",
       "    .dataframe thead th {\n",
       "        text-align: right;\n",
       "    }\n",
       "</style>\n",
       "<table border=\"1\" class=\"dataframe\">\n",
       "  <thead>\n",
       "    <tr style=\"text-align: right;\">\n",
       "      <th></th>\n",
       "      <th>Sales_before_digital_add(in $)</th>\n",
       "      <th>Sales_After_digital_add(in $)</th>\n",
       "    </tr>\n",
       "  </thead>\n",
       "  <tbody>\n",
       "    <tr>\n",
       "      <th>count</th>\n",
       "      <td>22.000000</td>\n",
       "      <td>22.000000</td>\n",
       "    </tr>\n",
       "    <tr>\n",
       "      <th>mean</th>\n",
       "      <td>149239.954545</td>\n",
       "      <td>231123.727273</td>\n",
       "    </tr>\n",
       "    <tr>\n",
       "      <th>std</th>\n",
       "      <td>14844.042921</td>\n",
       "      <td>25556.777061</td>\n",
       "    </tr>\n",
       "    <tr>\n",
       "      <th>min</th>\n",
       "      <td>130263.000000</td>\n",
       "      <td>187305.000000</td>\n",
       "    </tr>\n",
       "    <tr>\n",
       "      <th>25%</th>\n",
       "      <td>138087.750000</td>\n",
       "      <td>214960.750000</td>\n",
       "    </tr>\n",
       "    <tr>\n",
       "      <th>50%</th>\n",
       "      <td>147444.000000</td>\n",
       "      <td>229986.500000</td>\n",
       "    </tr>\n",
       "    <tr>\n",
       "      <th>75%</th>\n",
       "      <td>157627.500000</td>\n",
       "      <td>250909.000000</td>\n",
       "    </tr>\n",
       "    <tr>\n",
       "      <th>max</th>\n",
       "      <td>178939.000000</td>\n",
       "      <td>276279.000000</td>\n",
       "    </tr>\n",
       "  </tbody>\n",
       "</table>\n",
       "</div>"
      ],
      "text/plain": [
       "       Sales_before_digital_add(in $)  Sales_After_digital_add(in $)\n",
       "count                       22.000000                      22.000000\n",
       "mean                    149239.954545                  231123.727273\n",
       "std                      14844.042921                   25556.777061\n",
       "min                     130263.000000                  187305.000000\n",
       "25%                     138087.750000                  214960.750000\n",
       "50%                     147444.000000                  229986.500000\n",
       "75%                     157627.500000                  250909.000000\n",
       "max                     178939.000000                  276279.000000"
      ]
     },
     "execution_count": 23,
     "metadata": {},
     "output_type": "execute_result"
    }
   ],
   "source": [
    "df.describe()"
   ]
  },
  {
   "cell_type": "code",
   "execution_count": 24,
   "id": "799a9ed6",
   "metadata": {},
   "outputs": [
    {
     "data": {
      "text/plain": [
       "149239.95454545456"
      ]
     },
     "execution_count": 24,
     "metadata": {},
     "output_type": "execute_result"
    }
   ],
   "source": [
    "stat.mean(df['Sales_before_digital_add(in $)'])"
   ]
  },
  {
   "cell_type": "code",
   "execution_count": 25,
   "id": "271747fc",
   "metadata": {},
   "outputs": [
    {
     "data": {
      "text/plain": [
       "231123.72727272726"
      ]
     },
     "execution_count": 25,
     "metadata": {},
     "output_type": "execute_result"
    }
   ],
   "source": [
    "stat.mean(df['Sales_After_digital_add(in $)'])"
   ]
  },
  {
   "cell_type": "code",
   "execution_count": 26,
   "id": "9fb3942e",
   "metadata": {},
   "outputs": [
    {
     "data": {
      "text/plain": [
       "147444.0"
      ]
     },
     "execution_count": 26,
     "metadata": {},
     "output_type": "execute_result"
    }
   ],
   "source": [
    "stat.median(df['Sales_before_digital_add(in $)'])"
   ]
  },
  {
   "cell_type": "code",
   "execution_count": 27,
   "id": "1bd4471e",
   "metadata": {},
   "outputs": [
    {
     "data": {
      "text/plain": [
       "229986.5"
      ]
     },
     "execution_count": 27,
     "metadata": {},
     "output_type": "execute_result"
    }
   ],
   "source": [
    "stat.median(df['Sales_After_digital_add(in $)'])"
   ]
  },
  {
   "cell_type": "code",
   "execution_count": 28,
   "id": "1aed2ce9",
   "metadata": {},
   "outputs": [
    {
     "data": {
      "text/plain": [
       "220345610.23593074"
      ]
     },
     "execution_count": 28,
     "metadata": {},
     "output_type": "execute_result"
    }
   ],
   "source": [
    "stat.variance(df['Sales_before_digital_add(in $)'])"
   ]
  },
  {
   "cell_type": "code",
   "execution_count": 29,
   "id": "fda4c271",
   "metadata": {},
   "outputs": [
    {
     "data": {
      "text/plain": [
       "653148853.7316017"
      ]
     },
     "execution_count": 29,
     "metadata": {},
     "output_type": "execute_result"
    }
   ],
   "source": [
    "stat.variance(df['Sales_After_digital_add(in $)'])"
   ]
  },
  {
   "cell_type": "code",
   "execution_count": 30,
   "id": "afeb1150",
   "metadata": {},
   "outputs": [
    {
     "data": {
      "text/plain": [
       "0.5780328152845783"
      ]
     },
     "execution_count": 30,
     "metadata": {},
     "output_type": "execute_result"
    }
   ],
   "source": [
    "df['Sales_before_digital_add(in $)'].skew()"
   ]
  },
  {
   "cell_type": "code",
   "execution_count": 31,
   "id": "8cfde2b7",
   "metadata": {},
   "outputs": [
    {
     "data": {
      "text/plain": [
       "-0.02266883113277529"
      ]
     },
     "execution_count": 31,
     "metadata": {},
     "output_type": "execute_result"
    }
   ],
   "source": [
    "df['Sales_After_digital_add(in $)'].skew()"
   ]
  },
  {
   "cell_type": "code",
   "execution_count": 32,
   "id": "5c291f40",
   "metadata": {},
   "outputs": [],
   "source": [
    "#if the skewness value <-1 or >+1 : Highly Skewed Distribution\n",
    "\n",
    "#if the skewness value is between -1 & -1/2 or b/w +1/2 & +1 : Moderately Skewed Distribution\n",
    "\n",
    "#if the skewness value is between -1/2 & +1/2 : Approximately Symmetric Distribution"
   ]
  },
  {
   "cell_type": "markdown",
   "id": "f14b6a6d",
   "metadata": {},
   "source": [
    "# 1. The company wishes to clarify whether there is any increase in sales after stepping into digital marketing."
   ]
  },
  {
   "cell_type": "markdown",
   "id": "e41580ff",
   "metadata": {},
   "source": [
    "Null Hypothesis, H0 = \"No Increase in Sales\" After Stepping into Digital Marketing\n",
    "\n",
    "Alternate Hypothesis, HA = \"Increase in Sales\" After Stepping into Digital Marketing\n",
    "\n",
    "TESTING THE HYPOTHESIS => \"TWO SAMPLE T-TEST\"\n"
   ]
  },
  {
   "cell_type": "code",
   "execution_count": 33,
   "id": "a4ff2356",
   "metadata": {},
   "outputs": [],
   "source": [
    "from scipy.stats import ttest_ind"
   ]
  },
  {
   "cell_type": "code",
   "execution_count": 36,
   "id": "2b9f0a2a",
   "metadata": {},
   "outputs": [
    {
     "data": {
      "text/plain": [
       "Index(['Month', 'Region', 'Manager', 'Sales_before_digital_add(in $)',\n",
       "       'Sales_After_digital_add(in $)'],\n",
       "      dtype='object')"
      ]
     },
     "execution_count": 36,
     "metadata": {},
     "output_type": "execute_result"
    }
   ],
   "source": [
    "df.columns"
   ]
  },
  {
   "cell_type": "code",
   "execution_count": 38,
   "id": "a5e14cce",
   "metadata": {},
   "outputs": [
    {
     "data": {
      "text/plain": [
       "Ttest_indResult(statistic=-12.995084451110875, pvalue=2.614368006904645e-16)"
      ]
     },
     "execution_count": 38,
     "metadata": {},
     "output_type": "execute_result"
    }
   ],
   "source": [
    "ttest_ind(df['Sales_before_digital_add(in $)'],df['Sales_After_digital_add(in $)'])"
   ]
  },
  {
   "cell_type": "code",
   "execution_count": 40,
   "id": "5d65ed1e",
   "metadata": {},
   "outputs": [],
   "source": [
    "t_test,p_value = ttest_ind(df['Sales_before_digital_add(in $)'],df['Sales_After_digital_add(in $)'])"
   ]
  },
  {
   "cell_type": "code",
   "execution_count": 41,
   "id": "7cedfd8e",
   "metadata": {},
   "outputs": [
    {
     "data": {
      "text/plain": [
       "2.614368006904645e-16"
      ]
     },
     "execution_count": 41,
     "metadata": {},
     "output_type": "execute_result"
    }
   ],
   "source": [
    "p_value"
   ]
  },
  {
   "cell_type": "code",
   "execution_count": 42,
   "id": "f3bad2c0",
   "metadata": {},
   "outputs": [
    {
     "name": "stdout",
     "output_type": "stream",
     "text": [
      "Null Hypothesis H0 is Rejected\n"
     ]
    }
   ],
   "source": [
    "if p_value<0.05:\n",
    "    print('Null Hypothesis H0 is Rejected')\n",
    "else:\n",
    "    print('Null Hypothesis H0 is Accepted')"
   ]
  },
  {
   "cell_type": "markdown",
   "id": "89fe44c5",
   "metadata": {},
   "source": [
    "# Inference: With reference to the p value we can say that H0 = \"No Increase in Sales After Stepping into Digital Marketing is\" can be REJECTED.\n",
    "=>There is increase in sales after stepping into digital marketing."
   ]
  },
  {
   "cell_type": "code",
   "execution_count": null,
   "id": "d3597e2e",
   "metadata": {},
   "outputs": [],
   "source": []
  },
  {
   "cell_type": "markdown",
   "id": "4066cd71",
   "metadata": {},
   "source": [
    "# 2.The company needs to check whether there is any dependency between the features “Region” and “Manager”."
   ]
  },
  {
   "cell_type": "markdown",
   "id": "9606a1a2",
   "metadata": {},
   "source": [
    "H0= There is no dependency between the features “Region” and “Manager”\n",
    "\n",
    "HA= There is a dependency between the features “Region” and “Manager”\n",
    "\n",
    "\"Here after the analysis, it is noticable that use of 'Chi-Square Of Association' is appliable.\"\n"
   ]
  },
  {
   "cell_type": "code",
   "execution_count": 44,
   "id": "7a0d6eb1",
   "metadata": {},
   "outputs": [],
   "source": [
    "from scipy.stats import chi2_contingency"
   ]
  },
  {
   "cell_type": "code",
   "execution_count": 45,
   "id": "cef8b1ba",
   "metadata": {},
   "outputs": [],
   "source": [
    "relation_data = (df['Sales_before_digital_add(in $)'],df['Sales_After_digital_add(in $)'])"
   ]
  },
  {
   "cell_type": "code",
   "execution_count": 46,
   "id": "0fe773c2",
   "metadata": {},
   "outputs": [
    {
     "data": {
      "text/plain": [
       "(50418.98816785626,\n",
       " 0.0,\n",
       " 21,\n",
       " array([[158243.59208   , 146308.74878564, 153225.29220049,\n",
       "         150656.89571799, 163978.34352948, 154633.8689454 ,\n",
       "         138397.96206394, 141947.26157215, 155971.42831125,\n",
       "         131712.12704074, 142236.43178413, 178609.8854221 ,\n",
       "         137421.37501155, 158767.00193451, 147841.311673  ,\n",
       "         143015.66114775, 147437.57198762, 141058.95579207,\n",
       "         140926.337703  , 143240.09176003, 161187.08587953,\n",
       "         146461.76965765],\n",
       "        [245067.40792   , 226584.25121436, 237295.70779951,\n",
       "         233318.10428201, 253948.65647052, 239477.1310546 ,\n",
       "         214333.03793606, 219829.73842785, 241548.57168875,\n",
       "         203978.87295926, 220277.56821587, 276608.1145779 ,\n",
       "         212820.62498845, 245877.99806549, 228957.688327  ,\n",
       "         221484.33885225, 228332.42801238, 218454.04420793,\n",
       "         218248.662297  , 221831.90823997, 249625.91412047,\n",
       "         226821.23034235]]))"
      ]
     },
     "execution_count": 46,
     "metadata": {},
     "output_type": "execute_result"
    }
   ],
   "source": [
    "chi2_contingency(relation_data)"
   ]
  },
  {
   "cell_type": "code",
   "execution_count": 47,
   "id": "39873234",
   "metadata": {},
   "outputs": [],
   "source": [
    "chi_stat,p_value1,dof,relation = chi2_contingency(relation_data)"
   ]
  },
  {
   "cell_type": "code",
   "execution_count": 48,
   "id": "7aff0ef9",
   "metadata": {},
   "outputs": [
    {
     "data": {
      "text/plain": [
       "0.0"
      ]
     },
     "execution_count": 48,
     "metadata": {},
     "output_type": "execute_result"
    }
   ],
   "source": [
    "p_value1"
   ]
  },
  {
   "cell_type": "code",
   "execution_count": 49,
   "id": "c7fd96a5",
   "metadata": {},
   "outputs": [
    {
     "name": "stdout",
     "output_type": "stream",
     "text": [
      "Null Hypothesis Rejected\n"
     ]
    }
   ],
   "source": [
    "if p_value1<0.05:\n",
    "    print('Null Hypothesis Rejected')\n",
    "else:\n",
    "    print('Null Hypothesis Accepted')"
   ]
  },
  {
   "cell_type": "markdown",
   "id": "ba7ef0c8",
   "metadata": {},
   "source": [
    "#  Inference: From the P value we can say that H0 = \"There is no Dependency between the features REGION and MANAGER\"  is REJECTED.\n",
    "=>There is Dependency between the features REGION and MANAGER"
   ]
  },
  {
   "cell_type": "markdown",
   "id": "9a6f58af",
   "metadata": {},
   "source": [
    "# visual confirmation on the relationship b/w REGION & MANAGER."
   ]
  },
  {
   "cell_type": "code",
   "execution_count": 50,
   "id": "70601573",
   "metadata": {},
   "outputs": [],
   "source": [
    "df[\"Profit\"]=df['Sales_After_digital_add(in $)']-df['Sales_before_digital_add(in $)']"
   ]
  },
  {
   "cell_type": "code",
   "execution_count": 51,
   "id": "74eb1d58",
   "metadata": {},
   "outputs": [
    {
     "data": {
      "text/html": [
       "<div>\n",
       "<style scoped>\n",
       "    .dataframe tbody tr th:only-of-type {\n",
       "        vertical-align: middle;\n",
       "    }\n",
       "\n",
       "    .dataframe tbody tr th {\n",
       "        vertical-align: top;\n",
       "    }\n",
       "\n",
       "    .dataframe thead th {\n",
       "        text-align: right;\n",
       "    }\n",
       "</style>\n",
       "<table border=\"1\" class=\"dataframe\">\n",
       "  <thead>\n",
       "    <tr style=\"text-align: right;\">\n",
       "      <th></th>\n",
       "      <th>Month</th>\n",
       "      <th>Region</th>\n",
       "      <th>Manager</th>\n",
       "      <th>Sales_before_digital_add(in $)</th>\n",
       "      <th>Sales_After_digital_add(in $)</th>\n",
       "      <th>Profit</th>\n",
       "    </tr>\n",
       "  </thead>\n",
       "  <tbody>\n",
       "    <tr>\n",
       "      <th>0</th>\n",
       "      <td>Month-1</td>\n",
       "      <td>Region - A</td>\n",
       "      <td>Manager - A</td>\n",
       "      <td>132921</td>\n",
       "      <td>270390</td>\n",
       "      <td>137469</td>\n",
       "    </tr>\n",
       "    <tr>\n",
       "      <th>1</th>\n",
       "      <td>Month-2</td>\n",
       "      <td>Region - A</td>\n",
       "      <td>Manager - C</td>\n",
       "      <td>149559</td>\n",
       "      <td>223334</td>\n",
       "      <td>73775</td>\n",
       "    </tr>\n",
       "  </tbody>\n",
       "</table>\n",
       "</div>"
      ],
      "text/plain": [
       "     Month      Region      Manager  Sales_before_digital_add(in $)  \\\n",
       "0  Month-1  Region - A  Manager - A                          132921   \n",
       "1  Month-2  Region - A  Manager - C                          149559   \n",
       "\n",
       "   Sales_After_digital_add(in $)  Profit  \n",
       "0                         270390  137469  \n",
       "1                         223334   73775  "
      ]
     },
     "execution_count": 51,
     "metadata": {},
     "output_type": "execute_result"
    }
   ],
   "source": [
    "df.head(2)"
   ]
  },
  {
   "cell_type": "code",
   "execution_count": 52,
   "id": "4f0c9785",
   "metadata": {
    "scrolled": true
   },
   "outputs": [
    {
     "data": {
      "image/png": "[encoded data removed]",
      "text/plain": [
       "<Figure size 823.25x600 with 1 Axes>"
      ]
     },
     "metadata": {},
     "output_type": "display_data"
    }
   ],
   "source": [
    "sns.catplot(data=df, x=\"Manager\", hue=\"Profit\",y=\"Region\",kind=\"swarm\", height=6,aspect=1.2,orient='h',palette='viridis',)\n",
    "plt.show()"
   ]
  },
  {
   "cell_type": "markdown",
   "id": "40833aa8",
   "metadata": {},
   "source": [
    "# The above plot gives an idea about where to place a particular manager so that the outcome is most favourable for the firm"
   ]
  },
  {
   "cell_type": "code",
   "execution_count": null,
   "id": "6fd9c069",
   "metadata": {},
   "outputs": [],
   "source": []
  }
 ],
 "metadata": {
  "kernelspec": {
   "display_name": "Python 3 (ipykernel)",
   "language": "python",
   "name": "python3"
  },
  "language_info": {
   "codemirror_mode": {
    "name": "ipython",
    "version": 3
   },
   "file_extension": ".py",
   "mimetype": "text/x-python",
   "name": "python",
   "nbconvert_exporter": "python",
   "pygments_lexer": "ipython3",
   "version": "3.9.13"
  }
 },
 "nbformat": 4,
 "nbformat_minor": 5
}
